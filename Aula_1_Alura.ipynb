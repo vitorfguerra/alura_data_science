{
  "nbformat": 4,
  "nbformat_minor": 0,
  "metadata": {
    "colab": {
      "provenance": [],
      "collapsed_sections": [],
      "authorship_tag": "ABX9TyOYRFnvvEno9pNHIyuB4HnW",
      "include_colab_link": true
    },
    "kernelspec": {
      "name": "python3",
      "display_name": "Python 3"
    },
    "language_info": {
      "name": "python"
    }
  },
  "cells": [
    {
      "cell_type": "markdown",
      "metadata": {
        "id": "view-in-github",
        "colab_type": "text"
      },
      "source": [
        "<a href=\"https://colab.research.google.com/github/vitorfguerra/alura_data_science/blob/main/Aula_1_Alura.ipynb\" target=\"_parent\"><img src=\"https://colab.research.google.com/assets/colab-badge.svg\" alt=\"Open In Colab\"/></a>"
      ]
    },
    {
      "cell_type": "markdown",
      "source": [
        "# Lógica de programação com Python"
      ],
      "metadata": {
        "id": "ZW20B2Zmwv8h"
      }
    },
    {
      "cell_type": "markdown",
      "source": [
        "  ## 1.1 Criando minha primeira função"
      ],
      "metadata": {
        "id": "7DZrAJmlzXPM"
      }
    },
    {
      "cell_type": "code",
      "source": [
        "def saudacao():\n",
        "  name = input('Qual o seu nome? ')\n",
        "  print(f'Olá {name}')"
      ],
      "metadata": {
        "id": "zkh5zP8WyUdy"
      },
      "execution_count": null,
      "outputs": []
    },
    {
      "cell_type": "code",
      "source": [
        "saudacao()"
      ],
      "metadata": {
        "colab": {
          "base_uri": "https://localhost:8080/"
        },
        "id": "5ifz6_Lxz4gg",
        "outputId": "2f0bccb3-722b-4c1a-84e0-a47554645496"
      },
      "execution_count": null,
      "outputs": [
        {
          "output_type": "stream",
          "name": "stdout",
          "text": [
            "Qual o seu nome? Vitor\n",
            "Olá Vitor\n"
          ]
        }
      ]
    },
    {
      "cell_type": "code",
      "source": [
        "def nome_completo():\n",
        "  primeiro_nome = input('Qual seu primeiro nome? ')\n",
        "  sobrenome = input('Qual seu sobrenome? ')\n",
        "  nome_inteiro = primeiro_nome + ' ' + sobrenome\n",
        "  print(f'Olá {nome_inteiro}')\n"
      ],
      "metadata": {
        "id": "vyRuf2CNz62R"
      },
      "execution_count": null,
      "outputs": []
    },
    {
      "cell_type": "code",
      "source": [
        "nome_completo()"
      ],
      "metadata": {
        "colab": {
          "base_uri": "https://localhost:8080/"
        },
        "id": "AQVxgc2T2b3x",
        "outputId": "2cbbb8b3-eb70-4923-824e-b89d12335cf3"
      },
      "execution_count": null,
      "outputs": [
        {
          "output_type": "stream",
          "name": "stdout",
          "text": [
            "Qual seu primeiro nome? Vitor\n",
            "Qual seu sobrenome? Guerra\n",
            "Olá Vitor Guerra\n"
          ]
        }
      ]
    },
    {
      "cell_type": "markdown",
      "source": [
        "**Python** é uma *linguagem de alto nível*, ou seja, se assemelham mais com a linguagem humana, as liguagens de baixo nível se aproximam mais da linguagem de máquina, exemplo Assembly.\n",
        "Vantagem da linguagem de alto nível: Mais fácil de escrever, entender e aprender. Desvantagem: a linguagem precisa ser interpretada.\n",
        "\n",
        "As linguagens de baixo nível são mais difíceis de entender e escrever porém possuem um melhor aproveitamento da máquina."
      ],
      "metadata": {
        "id": "M6RwUgFn1GcQ"
      }
    },
    {
      "cell_type": "code",
      "source": [
        "print(f'O nome é {name} e sua idade é {age} anos')"
      ],
      "metadata": {
        "colab": {
          "base_uri": "https://localhost:8080/"
        },
        "id": "itQAxs5OyJnC",
        "outputId": "9a485614-835c-4f80-a491-878c22964ca2"
      },
      "execution_count": null,
      "outputs": [
        {
          "output_type": "stream",
          "name": "stdout",
          "text": [
            "O nome é Vitor e sua idade é 32 anos\n"
          ]
        }
      ]
    },
    {
      "cell_type": "markdown",
      "source": [
        "Por convenção, em Python se usa preferêcialmente aspas simples para strings"
      ],
      "metadata": {
        "id": "jEnkR9d0xyxo"
      }
    },
    {
      "cell_type": "code",
      "execution_count": null,
      "metadata": {
        "id": "hITNXCRzwQhP"
      },
      "outputs": [],
      "source": [
        "name = 'Vitor'\n",
        "age = 32"
      ]
    },
    {
      "cell_type": "markdown",
      "source": [
        "## 1.2 Parâmentros, condicionais e conversões"
      ],
      "metadata": {
        "id": "RILmbmKs6IU5"
      }
    },
    {
      "cell_type": "markdown",
      "source": [
        "### Parâmetros: Eu tenho uma função e quero chamar um variável de fora dela, nesse caso eu defino um parâmetro (valor entre parenteses) na função."
      ],
      "metadata": {
        "id": "oXcS7UIR7PYU"
      }
    },
    {
      "cell_type": "code",
      "source": [
        "nome = 'João'"
      ],
      "metadata": {
        "id": "ZTcSZKJg6FPr"
      },
      "execution_count": 25,
      "outputs": []
    },
    {
      "cell_type": "code",
      "source": [
        "def saudacao_com_parametro(nome_da_pessoa):\n",
        "  print(f'Olá {nome_da_pessoa}')"
      ],
      "metadata": {
        "id": "cHsFuyCc2ooQ"
      },
      "execution_count": 23,
      "outputs": []
    },
    {
      "cell_type": "code",
      "source": [
        "saudacao_com_parametro(nome)"
      ],
      "metadata": {
        "colab": {
          "base_uri": "https://localhost:8080/"
        },
        "id": "aL1O9X7B68Tk",
        "outputId": "f9c8f13a-b93b-4b49-bf2e-bf85940c1208"
      },
      "execution_count": 26,
      "outputs": [
        {
          "output_type": "stream",
          "name": "stdout",
          "text": [
            "Olá João\n"
          ]
        }
      ]
    },
    {
      "cell_type": "markdown",
      "source": [
        "### Condicional\n",
        "vamos fazer uma função que verifica se a pessoa tem idade para dirigir (tem mais de 18 anos)"
      ],
      "metadata": {
        "id": "cFD6Mcn47rcD"
      }
    },
    {
      "cell_type": "code",
      "source": [
        "idade = 10\n",
        "\n",
        "def verifica_se_pode_dirigir(idade):\n",
        "  if idade >= 18:\n",
        "    print('Tem permissão para dirigir')\n",
        "  else:\n",
        "    print('Não tem permissão para dirigir')\n",
        "\n",
        "verifica_se_pode_dirigir(idade)"
      ],
      "metadata": {
        "colab": {
          "base_uri": "https://localhost:8080/"
        },
        "id": "bHXCm1Bm6_iF",
        "outputId": "02fe5a55-795d-433d-91b4-ce884781da6b"
      },
      "execution_count": 32,
      "outputs": [
        {
          "output_type": "stream",
          "name": "stdout",
          "text": [
            "Não tem permissão para dirigir\n"
          ]
        }
      ]
    },
    {
      "cell_type": "markdown",
      "source": [
        "### Convertendo str para int"
      ],
      "metadata": {
        "id": "mZjtsYq599GH"
      }
    },
    {
      "cell_type": "code",
      "source": [
        "def verifica_se_pode_dirigir_sem_parametros():\n",
        "  idade = input(\"Qual sua idade? \")\n",
        "  idade = int(idade)\n",
        "  if idade >= 18:\n",
        "    print('Tem permissão para dirigir')\n",
        "  else:\n",
        "    print('Não tem permissão para dirigir')\n",
        "\n",
        "verifica_se_pode_dirigir_sem_parametros()"
      ],
      "metadata": {
        "colab": {
          "base_uri": "https://localhost:8080/"
        },
        "id": "Lk8z920e8XH6",
        "outputId": "3be08c26-bc15-4638-b7a9-02930e860555"
      },
      "execution_count": 42,
      "outputs": [
        {
          "output_type": "stream",
          "name": "stdout",
          "text": [
            "Qual sua idade? 30\n",
            "Tem permissão para dirigir\n"
          ]
        }
      ]
    },
    {
      "cell_type": "code",
      "source": [
        "def calcula_velocidade(espaco, tempo):\n",
        "  v = espaco/tempo\n",
        "  print(f'A velocidade é {v} m/s')\n",
        "\n",
        "calcula_velocidade(200, 20)"
      ],
      "metadata": {
        "colab": {
          "base_uri": "https://localhost:8080/"
        },
        "id": "7gbjzj379R87",
        "outputId": "3d3367ec-36af-4125-8f8f-616ad565fa81"
      },
      "execution_count": 43,
      "outputs": [
        {
          "output_type": "stream",
          "name": "stdout",
          "text": [
            "A velocidade é 10.0 m/s\n"
          ]
        }
      ]
    },
    {
      "cell_type": "markdown",
      "source": [
        "Operadores de comparação:"
      ],
      "metadata": {
        "id": "U3kGXJGQ_Lh0"
      }
    },
    {
      "cell_type": "markdown",
      "source": [
        "![image.png](data:image/png;base64,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)"
      ],
      "metadata": {
        "id": "gY9ic8QE_Arr"
      }
    },
    {
      "cell_type": "markdown",
      "source": [
        "## 1.3 Listas, repetições e tipo booleano"
      ],
      "metadata": {
        "id": "WVdZoyvM_dRS"
      }
    },
    {
      "cell_type": "markdown",
      "source": [
        "### Listas"
      ],
      "metadata": {
        "id": "Dk5M4QqV_kHV"
      }
    },
    {
      "cell_type": "code",
      "source": [
        "idades = [18, 22, 15, 50]\n",
        " #índice:  0,  1,  2,  3\n",
        "#          0  -3  -2  -1 "
      ],
      "metadata": {
        "id": "5pbeQL3f_ihz"
      },
      "execution_count": 51,
      "outputs": []
    },
    {
      "cell_type": "code",
      "source": [
        "type(idades)"
      ],
      "metadata": {
        "colab": {
          "base_uri": "https://localhost:8080/"
        },
        "id": "pohUKo1NAEXq",
        "outputId": "ff51f348-d9da-4cf2-bab4-227e5a453c22"
      },
      "execution_count": 52,
      "outputs": [
        {
          "output_type": "execute_result",
          "data": {
            "text/plain": [
              "list"
            ]
          },
          "metadata": {},
          "execution_count": 52
        }
      ]
    },
    {
      "cell_type": "code",
      "source": [
        "idades[1]"
      ],
      "metadata": {
        "colab": {
          "base_uri": "https://localhost:8080/"
        },
        "id": "PsUSZU40AGXr",
        "outputId": "72e7bd06-e2d1-483a-c580-0474909c1687"
      },
      "execution_count": 46,
      "outputs": [
        {
          "output_type": "execute_result",
          "data": {
            "text/plain": [
              "22"
            ]
          },
          "metadata": {},
          "execution_count": 46
        }
      ]
    },
    {
      "cell_type": "code",
      "source": [
        "#pegar valores específicos da lista:\n",
        "idades[0:3]"
      ],
      "metadata": {
        "colab": {
          "base_uri": "https://localhost:8080/"
        },
        "id": "U_kR7DSVAMRb",
        "outputId": "1d28f390-6f61-43bf-d39d-9251c37ccc02"
      },
      "execution_count": 48,
      "outputs": [
        {
          "output_type": "execute_result",
          "data": {
            "text/plain": [
              "[18, 22, 15]"
            ]
          },
          "metadata": {},
          "execution_count": 48
        }
      ]
    },
    {
      "cell_type": "code",
      "source": [
        "idades[-1]"
      ],
      "metadata": {
        "colab": {
          "base_uri": "https://localhost:8080/"
        },
        "id": "cq_A1LZIAeCT",
        "outputId": "7e2ca1ad-6aff-4600-b5b1-378d027123cf"
      },
      "execution_count": 49,
      "outputs": [
        {
          "output_type": "execute_result",
          "data": {
            "text/plain": [
              "50"
            ]
          },
          "metadata": {},
          "execution_count": 49
        }
      ]
    },
    {
      "cell_type": "code",
      "source": [
        "idades[1:]"
      ],
      "metadata": {
        "colab": {
          "base_uri": "https://localhost:8080/"
        },
        "id": "cLU-aiodAmvE",
        "outputId": "3d82bfae-75a5-4e8d-bab3-ac87ff38b2a7"
      },
      "execution_count": 50,
      "outputs": [
        {
          "output_type": "execute_result",
          "data": {
            "text/plain": [
              "[22, 15, 50]"
            ]
          },
          "metadata": {},
          "execution_count": 50
        }
      ]
    },
    {
      "cell_type": "markdown",
      "source": [
        "### Laços e loops"
      ],
      "metadata": {
        "id": "awndeFBtBQfz"
      }
    },
    {
      "cell_type": "code",
      "source": [
        "#For fora da função\n",
        "\n",
        "def verifica_se_pode_dirigir(idade):\n",
        "  if idade >= 18:\n",
        "    print(f'{idade} anos de ldade TEM permissão para dirigir')\n",
        "  else:\n",
        "    print(f'{idade} anos de ldade NÃO TEM permissão para dirigir')\n",
        "\n",
        "for idade in idades:\n",
        "  verifica_se_pode_dirigir(idade) "
      ],
      "metadata": {
        "colab": {
          "base_uri": "https://localhost:8080/"
        },
        "id": "k5uMBzTKBaP2",
        "outputId": "eef2498e-d9c2-4db9-e346-22ce465734a9"
      },
      "execution_count": 57,
      "outputs": [
        {
          "output_type": "stream",
          "name": "stdout",
          "text": [
            "18 anos de ldade TEM permissão para dirigir\n",
            "22 anos de ldade TEM permissão para dirigir\n",
            "15 anos de ldade NÃO TEM permissão para dirigir\n",
            "50 anos de ldade TEM permissão para dirigir\n"
          ]
        }
      ]
    },
    {
      "cell_type": "code",
      "source": [
        "def verifica_se_pode_dirigir(idades):\n",
        "  for idade in idades:\n",
        "     if idade >= 18:\n",
        "      print(f'{idade} anos de ldade TEM permissão para dirigir')\n",
        "     else:\n",
        "      print(f'{idade} anos de ldade NÃO TEM permissão para dirigir')\n",
        "\n",
        "verifica_se_pode_dirigir(idades) "
      ],
      "metadata": {
        "colab": {
          "base_uri": "https://localhost:8080/"
        },
        "id": "NWk_q0fgB6Hg",
        "outputId": "37a5578d-5a4b-4b1c-a568-029ad09d508f"
      },
      "execution_count": 60,
      "outputs": [
        {
          "output_type": "stream",
          "name": "stdout",
          "text": [
            "18 anos de ldade TEM permissão para dirigir\n",
            "22 anos de ldade TEM permissão para dirigir\n",
            "15 anos de ldade NÃO TEM permissão para dirigir\n",
            "50 anos de ldade TEM permissão para dirigir\n"
          ]
        }
      ]
    },
    {
      "cell_type": "markdown",
      "source": [
        "### Booleano"
      ],
      "metadata": {
        "id": "5yLGKul_CfuU"
      }
    },
    {
      "cell_type": "code",
      "source": [
        "idade = 18 \n",
        "idade >= 18"
      ],
      "metadata": {
        "colab": {
          "base_uri": "https://localhost:8080/"
        },
        "id": "ZfevIv00CU7h",
        "outputId": "197834a6-fb8e-4886-cad4-534ae67faed8"
      },
      "execution_count": 61,
      "outputs": [
        {
          "output_type": "execute_result",
          "data": {
            "text/plain": [
              "True"
            ]
          },
          "metadata": {},
          "execution_count": 61
        }
      ]
    },
    {
      "cell_type": "code",
      "source": [
        "idade = 15\n",
        "idade >= 18"
      ],
      "metadata": {
        "colab": {
          "base_uri": "https://localhost:8080/"
        },
        "id": "3L6eVYcEDojN",
        "outputId": "86ba922c-c056-4d62-a892-c947e3c917bf"
      },
      "execution_count": 62,
      "outputs": [
        {
          "output_type": "execute_result",
          "data": {
            "text/plain": [
              "False"
            ]
          },
          "metadata": {},
          "execution_count": 62
        }
      ]
    },
    {
      "cell_type": "code",
      "source": [
        "permissoes = []\n",
        "idades = [20, 14, 40]\n",
        "\n",
        "def verifica_se_pode_dirigir(idades, permissoes):\n",
        "  for idade in idades:\n",
        "    if idade >= 18:\n",
        "      permissoes.append(True)\n",
        "    else:\n",
        "      permissoes.append(False)\n",
        "\n",
        "verifica_se_pode_dirigir(idades, permissoes)"
      ],
      "metadata": {
        "id": "gxpHiv7NDrpF"
      },
      "execution_count": 64,
      "outputs": []
    },
    {
      "cell_type": "code",
      "source": [
        "permissoes"
      ],
      "metadata": {
        "colab": {
          "base_uri": "https://localhost:8080/"
        },
        "id": "B4B25rL6EKtm",
        "outputId": "9ed9bf6c-7157-4cdf-ac81-bac1de193090"
      },
      "execution_count": 65,
      "outputs": [
        {
          "output_type": "execute_result",
          "data": {
            "text/plain": [
              "[True, False, True]"
            ]
          },
          "metadata": {},
          "execution_count": 65
        }
      ]
    },
    {
      "cell_type": "code",
      "source": [
        "for permissao in permissoes:\n",
        "  if permissao == True:\n",
        "    print('Tem permissão para dirigir')\n",
        "  else:\n",
        "    print('Não tem permissão para dirigir')"
      ],
      "metadata": {
        "colab": {
          "base_uri": "https://localhost:8080/"
        },
        "id": "YByKxoYgEPGf",
        "outputId": "835ea5aa-93dd-419a-c7d9-9a59d045cc8f"
      },
      "execution_count": 67,
      "outputs": [
        {
          "output_type": "stream",
          "name": "stdout",
          "text": [
            "Tem permissão para dirigir\n",
            "Não tem permissão para dirigir\n",
            "Tem permissão para dirigir\n"
          ]
        }
      ]
    },
    {
      "cell_type": "markdown",
      "source": [
        "### Tipos em uma lista"
      ],
      "metadata": {
        "id": "Hzt_-WDdGcfX"
      }
    },
    {
      "cell_type": "code",
      "source": [
        "lista = ['Vitor', 32, True, '18']\n",
        "\n",
        "for elemento in lista:\n",
        "  print(f'O elemento {elemento} é do tipo: ', type(elemento))"
      ],
      "metadata": {
        "colab": {
          "base_uri": "https://localhost:8080/"
        },
        "id": "wlsbx00UEjQZ",
        "outputId": "57e7e60d-2245-4df2-abfb-aa9874c16479"
      },
      "execution_count": 69,
      "outputs": [
        {
          "output_type": "stream",
          "name": "stdout",
          "text": [
            "O elemento Vitor é do tipo:  <class 'str'>\n",
            "O elemento 32 é do tipo:  <class 'int'>\n",
            "O elemento True é do tipo:  <class 'bool'>\n",
            "O elemento 18 é do tipo:  <class 'str'>\n"
          ]
        }
      ]
    },
    {
      "cell_type": "markdown",
      "source": [
        "## 1.4 Import"
      ],
      "metadata": {
        "id": "_4ESE8JlHZhb"
      }
    },
    {
      "cell_type": "code",
      "source": [
        "from random import randrange, seed\n"
      ],
      "metadata": {
        "id": "5PENaG_4GzOu"
      },
      "execution_count": 2,
      "outputs": []
    },
    {
      "cell_type": "code",
      "source": [
        "seed(11)"
      ],
      "metadata": {
        "id": "vrhWECR1IaKe"
      },
      "execution_count": 23,
      "outputs": []
    },
    {
      "cell_type": "code",
      "source": [
        "randrange(0, 11)"
      ],
      "metadata": {
        "colab": {
          "base_uri": "https://localhost:8080/"
        },
        "id": "QivjXBWFHkSn",
        "outputId": "8e291fa2-aa3d-4b58-825b-2105133a937c"
      },
      "execution_count": 24,
      "outputs": [
        {
          "output_type": "execute_result",
          "data": {
            "text/plain": [
              "7"
            ]
          },
          "metadata": {},
          "execution_count": 24
        }
      ]
    },
    {
      "cell_type": "code",
      "source": [
        "notas_matematica = []\n",
        "\n",
        "for notas in range(8):\n",
        "  notas_matematica.append(randrange(0,11))\n",
        "\n",
        "notas_matematica\n"
      ],
      "metadata": {
        "colab": {
          "base_uri": "https://localhost:8080/"
        },
        "id": "UD-q94MaHml_",
        "outputId": "40186d68-3840-4797-c285-fbd07781640a"
      },
      "execution_count": 25,
      "outputs": [
        {
          "output_type": "execute_result",
          "data": {
            "text/plain": [
              "[8, 7, 7, 8, 9, 3, 2, 8]"
            ]
          },
          "metadata": {},
          "execution_count": 25
        }
      ]
    },
    {
      "cell_type": "code",
      "source": [
        "len(notas_matematica)"
      ],
      "metadata": {
        "colab": {
          "base_uri": "https://localhost:8080/"
        },
        "id": "AXgrWk4AH-aC",
        "outputId": "f69d1cdd-7dfd-479c-f4c9-a27c7aed4a3f"
      },
      "execution_count": 9,
      "outputs": [
        {
          "output_type": "execute_result",
          "data": {
            "text/plain": [
              "8"
            ]
          },
          "metadata": {},
          "execution_count": 9
        }
      ]
    },
    {
      "cell_type": "markdown",
      "source": [
        "## 1.5 Plotando com Matplotlib"
      ],
      "metadata": {
        "id": "5q4UikpHq6SD"
      }
    },
    {
      "cell_type": "code",
      "source": [
        "import matplotlib.pyplot as plt"
      ],
      "metadata": {
        "id": "US1l6mT6q3b9"
      },
      "execution_count": 14,
      "outputs": []
    },
    {
      "cell_type": "code",
      "source": [
        "x = list(range(1, 9))\n",
        "y = notas_matematica\n",
        "plt.plot(x, y, marker = 'o')\n",
        "plt.title('Notas de matemática')\n",
        "plt.xlabel('Provas')\n",
        "plt.ylabel('Notas')\n",
        "plt.show()"
      ],
      "metadata": {
        "colab": {
          "base_uri": "https://localhost:8080/",
          "height": 295
        },
        "id": "BB02EgtIreuT",
        "outputId": "9157449d-9589-437d-fad8-60d5ebb32a70"
      },
      "execution_count": 26,
      "outputs": [
        {
          "output_type": "display_data",
          "data": {
            "text/plain": [
              "<Figure size 432x288 with 1 Axes>"
            ],
            "image/png": "[encoded data removed]"
          },
          "metadata": {
            "needs_background": "light"
          }
        }
      ]
    },
    {
      "cell_type": "code",
      "source": [],
      "metadata": {
        "id": "Qyk3nSYVro6F"
      },
      "execution_count": null,
      "outputs": []
    }
  ]
}