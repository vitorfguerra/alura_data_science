{
  "nbformat": 4,
  "nbformat_minor": 0,
  "metadata": {
    "colab": {
      "provenance": [],
      "collapsed_sections": [],
      "authorship_tag": "ABX9TyO8idFGMTpG/pGZBpKHBB2m",
      "include_colab_link": true
    },
    "kernelspec": {
      "name": "python3",
      "display_name": "Python 3"
    },
    "language_info": {
      "name": "python"
    }
  },
  "cells": [
    {
      "cell_type": "markdown",
      "metadata": {
        "id": "view-in-github",
        "colab_type": "text"
      },
      "source": [
        "<a href=\"https://colab.research.google.com/github/vitorfguerra/alura_data_science/blob/main/Aula_1_Alura.ipynb\" target=\"_parent\"><img src=\"https://colab.research.google.com/assets/colab-badge.svg\" alt=\"Open In Colab\"/></a>"
      ]
    },
    {
      "cell_type": "markdown",
      "source": [
        "## Lógica de programação com Python"
      ],
      "metadata": {
        "id": "ZW20B2Zmwv8h"
      }
    },
    {
      "cell_type": "markdown",
      "source": [
        "Por convenção, em Python se usa preferêcialmente aspas simples para strings"
      ],
      "metadata": {
        "id": "jEnkR9d0xyxo"
      }
    },
    {
      "cell_type": "code",
      "execution_count": 11,
      "metadata": {
        "id": "hITNXCRzwQhP"
      },
      "outputs": [],
      "source": [
        "name = 'Vitor'\n",
        "age = 32"
      ]
    },
    {
      "cell_type": "code",
      "source": [
        "print(f'O nome é {name} e sua idade é {age} anos')"
      ],
      "metadata": {
        "colab": {
          "base_uri": "https://localhost:8080/"
        },
        "id": "itQAxs5OyJnC",
        "outputId": "9a485614-835c-4f80-a491-878c22964ca2"
      },
      "execution_count": 12,
      "outputs": [
        {
          "output_type": "stream",
          "name": "stdout",
          "text": [
            "O nome é Vitor e sua idade é 32 anos\n"
          ]
        }
      ]
    },
    {
      "cell_type": "markdown",
      "source": [
        "##Criando minha primeira função"
      ],
      "metadata": {
        "id": "7DZrAJmlzXPM"
      }
    },
    {
      "cell_type": "code",
      "source": [
        "def saudacao():\n",
        "  name = input('Qual o seu nome? ')\n",
        "  print(f'Olá {name}')"
      ],
      "metadata": {
        "id": "zkh5zP8WyUdy"
      },
      "execution_count": 15,
      "outputs": []
    },
    {
      "cell_type": "code",
      "source": [
        "saudacao()"
      ],
      "metadata": {
        "colab": {
          "base_uri": "https://localhost:8080/"
        },
        "id": "5ifz6_Lxz4gg",
        "outputId": "2f0bccb3-722b-4c1a-84e0-a47554645496"
      },
      "execution_count": 17,
      "outputs": [
        {
          "output_type": "stream",
          "name": "stdout",
          "text": [
            "Qual o seu nome? Vitor\n",
            "Olá Vitor\n"
          ]
        }
      ]
    },
    {
      "cell_type": "code",
      "source": [
        "def nome_completo():\n",
        "  primeiro_nome = input('Qual seu primeiro nome? ')\n",
        "  sobrenome = input('Qual seu sobrenome? ')\n",
        "  nome_inteiro = primeiro_nome + ' ' + sobrenome\n",
        "  print(f'Olá {nome_inteiro}')\n"
      ],
      "metadata": {
        "id": "vyRuf2CNz62R"
      },
      "execution_count": 20,
      "outputs": []
    },
    {
      "cell_type": "code",
      "source": [
        "nome_completo()"
      ],
      "metadata": {
        "colab": {
          "base_uri": "https://localhost:8080/"
        },
        "id": "AQVxgc2T2b3x",
        "outputId": "2cbbb8b3-eb70-4923-824e-b89d12335cf3"
      },
      "execution_count": 21,
      "outputs": [
        {
          "output_type": "stream",
          "name": "stdout",
          "text": [
            "Qual seu primeiro nome? Vitor\n",
            "Qual seu sobrenome? Guerra\n",
            "Olá Vitor Guerra\n"
          ]
        }
      ]
    },
    {
      "cell_type": "markdown",
      "source": [
        "**Python** é uma *linguagem de alto nível*, ou seja, se assemelham mais com a linguagem humana, as liguagens de baixo nível se aproximam mais da linguagem de máquina, exemplo Assembly.\n",
        "Vantagem da linguagem de alto nível: Mais fácil de escrever, entender e aprender. Desvantagem: a linguagem precisa ser interpretada.\n",
        "\n",
        "As linguagens de baixo nível são mais difíceis de entender e escrever porém possuem um melhor aproveitamento da máquina."
      ],
      "metadata": {
        "id": "M6RwUgFn1GcQ"
      }
    },
    {
      "cell_type": "code",
      "source": [],
      "metadata": {
        "id": "cHsFuyCc2ooQ"
      },
      "execution_count": null,
      "outputs": []
    }
  ]
}